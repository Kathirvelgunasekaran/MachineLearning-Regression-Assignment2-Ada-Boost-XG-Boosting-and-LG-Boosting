{
 "cells": [
  {
   "cell_type": "code",
   "execution_count": 1,
   "metadata": {},
   "outputs": [],
   "source": [
    "#Now we are going to start Phase2, phase 2 seperately check with one file.end user application team is preparing send to this brain to that team. As a AI enginner create one good brain and test and send to concern team.\n",
    "import pickle  #we need this file required"
   ]
  },
  {
   "cell_type": "code",
   "execution_count": 2,
   "metadata": {},
   "outputs": [],
   "source": [
    "#Now Model saved, so once load and check it, it's working fine or not. if everything fine we will move this model to phase2 ,Deployment, end user application use related we can set it.\n",
    "loaded_model=pickle.load(open(\"finalized_model_XGBoosting_assignment.sav\",'rb')) #creating varaiale name loaded_model, if I want to use saved Model and want to load again means use \"pickle.load(open(\"finalized_model_linear.sav\",'rb'\" and here only reading so used rb.\n",
    "#Always use extension .sav properly to load model\n",
    "result=loaded_model.predict([[50,30.970,3,0,1,1,0]])\n",
    "#once loading completed means we are going test it real time based on single user. now we are predicting salary for 16 years of experience. Individual value sending time use two closed brackets like this([[16]]).\n",
    "#predict([[50,30.970,3,0,1,1,0]]) here we can forward python int varaiable value as input. Now saved model loaded and predicting result."
   ]
  },
  {
   "cell_type": "code",
   "execution_count": 3,
   "metadata": {},
   "outputs": [
    {
     "data": {
      "text/plain": [
       "array([11696.98739623])"
      ]
     },
     "execution_count": 3,
     "metadata": {},
     "output_type": "execute_result"
    }
   ],
   "source": [
    "result"
   ]
  },
  {
   "cell_type": "code",
   "execution_count": null,
   "metadata": {},
   "outputs": [],
   "source": []
  }
 ],
 "metadata": {
  "kernelspec": {
   "display_name": "Python 3",
   "language": "python",
   "name": "python3"
  },
  "language_info": {
   "codemirror_mode": {
    "name": "ipython",
    "version": 3
   },
   "file_extension": ".py",
   "mimetype": "text/x-python",
   "name": "python",
   "nbconvert_exporter": "python",
   "pygments_lexer": "ipython3",
   "version": "3.7.4"
  }
 },
 "nbformat": 4,
 "nbformat_minor": 2
}
